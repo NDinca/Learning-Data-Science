{
 "cells": [
  {
   "cell_type": "markdown",
   "id": "f42b78d8-f8ff-486c-8b5e-fd11b09b413f",
   "metadata": {},
   "source": [
    "# Data Science Tools and Ecosystem"
   ]
  },
  {
   "cell_type": "markdown",
   "id": "1c8868b3-85b7-43f3-b04d-824f3ed0b9b1",
   "metadata": {},
   "source": [
    "## Author\n",
    "Nebojša Dinčić"
   ]
  },
  {
   "cell_type": "markdown",
   "id": "96547c02-b381-492e-989f-1830a12e700a",
   "metadata": {},
   "source": [
    "In this notebook, Data Science Tools and Ecosystem are summarized."
   ]
  },
  {
   "cell_type": "markdown",
   "id": "e7991bf1-822f-4cc7-b08c-aaa00425cf9c",
   "metadata": {},
   "source": [
    "**Objectives:**\n",
    "- List popular languages for Data Science\n",
    "- List commonly used libraries for Data Science\n",
    "- Make a table that contains Data Science Tools"
   ]
  },
  {
   "cell_type": "markdown",
   "id": "6dcd4c4a-66cf-48fe-84bb-877dc6318d41",
   "metadata": {},
   "source": [
    "Some of the popular languages that Data Scientists use are:\n",
    "1. Python\n",
    "2. R\n",
    "3. SQL\n",
    "4. Scala\n",
    "5. C++\n",
    "6. Ruby\n",
    "7. Julia\n",
    "8. Java"
   ]
  },
  {
   "cell_type": "markdown",
   "id": "dd27c56d-a11c-42b2-a0cc-7e9e979813d4",
   "metadata": {},
   "source": [
    "Some of the commonly used libraries used by Data Scientists include:\n",
    "1. Pandas\n",
    "2. Matplotlib\n",
    "3. Seaborn\n",
    "4. Scikit-Learn\n",
    "5. TensorFlow\n",
    "6. Ggplot2\n",
    "7. Caret"
   ]
  },
  {
   "cell_type": "markdown",
   "id": "0287e149-8961-47c5-8811-97354163a549",
   "metadata": {},
   "source": [
    "|Data Science Tools|\n",
    "| --- | \n",
    "| VS Code |\n",
    "| RStudio |\n",
    "| JupyterLab |"
   ]
  },
  {
   "cell_type": "markdown",
   "id": "6c8325c4-41dc-4dda-b209-12fc5cc0577c",
   "metadata": {},
   "source": [
    "### Below are a few examples of evaluating arithmetic expressions in Python."
   ]
  },
  {
   "cell_type": "code",
   "execution_count": 1,
   "id": "1d5bf88c-62a5-4fe5-bff4-b0f2a8d106b1",
   "metadata": {},
   "outputs": [
    {
     "data": {
      "text/plain": [
       "17"
      ]
     },
     "execution_count": 1,
     "metadata": {},
     "output_type": "execute_result"
    }
   ],
   "source": [
    "# This a simple arithmetic expression to mutiply then add integers\n",
    "(3*4)+5"
   ]
  },
  {
   "cell_type": "code",
   "execution_count": 2,
   "id": "7ea3351e-7cee-4681-8d15-afbb347cdc0e",
   "metadata": {},
   "outputs": [
    {
     "data": {
      "text/plain": [
       "3.3333333333333335"
      ]
     },
     "execution_count": 2,
     "metadata": {},
     "output_type": "execute_result"
    }
   ],
   "source": [
    "# This will convert 200 minutes to hours by diving by 60\n",
    "200 / 60"
   ]
  },
  {
   "cell_type": "code",
   "execution_count": null,
   "id": "2067ab0a-5123-40a9-b22a-ad1a42cbb19a",
   "metadata": {},
   "outputs": [],
   "source": []
  }
 ],
 "metadata": {
  "kernelspec": {
   "display_name": "Python 3 (ipykernel)",
   "language": "python",
   "name": "python3"
  },
  "language_info": {
   "codemirror_mode": {
    "name": "ipython",
    "version": 3
   },
   "file_extension": ".py",
   "mimetype": "text/x-python",
   "name": "python",
   "nbconvert_exporter": "python",
   "pygments_lexer": "ipython3",
   "version": "3.12.8"
  }
 },
 "nbformat": 4,
 "nbformat_minor": 5
}
